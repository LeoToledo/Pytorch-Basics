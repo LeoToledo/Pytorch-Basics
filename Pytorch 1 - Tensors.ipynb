{
 "cells": [
  {
   "cell_type": "markdown",
   "metadata": {},
   "source": [
    "#### Vamos criar nossa primeira aplicação usando Pytorch! Aqui nós aprenderemos o que são Tensors e veremos algumas operações entre eles."
   ]
  },
  {
   "cell_type": "code",
   "execution_count": 1,
   "metadata": {},
   "outputs": [],
   "source": [
    "import torch"
   ]
  },
  {
   "cell_type": "markdown",
   "metadata": {},
   "source": [
    "#### Para começar, criaremos 2 Tensors. Um Tensor pode ser interpretado basicamente como um array. A diferença é que ao criar esse array como um Tensor, ele pode ser executado em uma GPU.\n",
    "\n",
    "#### É válido notar que a multiplicação de dois Tensors é element-wise."
   ]
  },
  {
   "cell_type": "code",
   "execution_count": 3,
   "metadata": {},
   "outputs": [
    {
     "name": "stdout",
     "output_type": "stream",
     "text": [
      "tensor([10.,  3.])\n"
     ]
    }
   ],
   "source": [
    "x = torch.Tensor([5, 3])\n",
    "y = torch.Tensor([2, 1])\n",
    "\n",
    "print(x*y)"
   ]
  },
  {
   "cell_type": "markdown",
   "metadata": {},
   "source": [
    "#### Como estamos percebendo, os Tensors basicamente vão ser arrays como os da numpy. Desse modo, várias funções da numpy foram também copiadas para o torch. Veja os exemplo abaixo:"
   ]
  },
  {
   "cell_type": "code",
   "execution_count": 6,
   "metadata": {},
   "outputs": [
    {
     "name": "stdout",
     "output_type": "stream",
     "text": [
      "x:  tensor([[0., 0., 0., 0., 0.],\n",
      "        [0., 0., 0., 0., 0.]])\n",
      "Shape de x:  torch.Size([2, 5])\n"
     ]
    }
   ],
   "source": [
    "x = torch.zeros([2, 5])\n",
    "\n",
    "print(\"x: \", x)\n",
    "print(\"Shape de x: \", x.shape)"
   ]
  },
  {
   "cell_type": "code",
   "execution_count": 8,
   "metadata": {},
   "outputs": [
    {
     "name": "stdout",
     "output_type": "stream",
     "text": [
      "Shape:  torch.Size([2, 5])\n",
      "tensor([[0.3916, 0.6033, 0.4140, 0.7545, 0.6000],\n",
      "        [0.3935, 0.0948, 0.5940, 0.8535, 0.7199]])\n"
     ]
    }
   ],
   "source": [
    "y = torch.rand([2, 5])\n",
    "print(\"Shape: \", y.shape)\n",
    "print(y)"
   ]
  },
  {
   "cell_type": "markdown",
   "metadata": {},
   "source": [
    "#### Reshape: No Numpy ou no Tensorflow temos um método chamado Reshape. No Torch, esse método é chamado de view.\n",
    "\n",
    "#### No exemplo abaixo, pegamos o array y de dimensão [2, 5] e o transformamos em [1, 10]."
   ]
  },
  {
   "cell_type": "code",
   "execution_count": 14,
   "metadata": {},
   "outputs": [
    {
     "name": "stdout",
     "output_type": "stream",
     "text": [
      "Shape:  torch.Size([1, 10])\n",
      "tensor([[0.3916, 0.6033, 0.4140, 0.7545, 0.6000, 0.3935, 0.0948, 0.5940, 0.8535,\n",
      "         0.7199]])\n"
     ]
    }
   ],
   "source": [
    "y = y.view([1, 10])\n",
    "print(\"Shape: \", y.shape)\n",
    "print(y)"
   ]
  },
  {
   "cell_type": "code",
   "execution_count": null,
   "metadata": {},
   "outputs": [],
   "source": []
  }
 ],
 "metadata": {
  "kernelspec": {
   "display_name": "pytorch",
   "language": "python",
   "name": "pytorch"
  },
  "language_info": {
   "codemirror_mode": {
    "name": "ipython",
    "version": 3
   },
   "file_extension": ".py",
   "mimetype": "text/x-python",
   "name": "python",
   "nbconvert_exporter": "python",
   "pygments_lexer": "ipython3",
   "version": "3.8.5"
  }
 },
 "nbformat": 4,
 "nbformat_minor": 4
}
